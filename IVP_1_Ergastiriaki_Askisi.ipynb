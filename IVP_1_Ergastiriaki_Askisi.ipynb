{
  "cells": [
    {
      "cell_type": "markdown",
      "source": [
        "# Τεχνολογία και Ανάλυση Εικόνων και Βίντεο\n",
        "\n",
        "## 1η Εργαστηριακή Άσκηση\n",
        "\n",
        "Δημήτρης Καλαθάς 03118016\n",
        "\n",
        "Δημήτρης Μπακάλης 03118163\n",
        "\n",
        "**Ομάδα 7**"
      ],
      "metadata": {
        "id": "KfwTOlddHG49"
      }
    },
    {
      "cell_type": "markdown",
      "source": [
        "## 1. Θεωρητικό Μέρος"
      ],
      "metadata": {
        "id": "YV_vkQLQHyzj"
      }
    },
    {
      "cell_type": "markdown",
      "source": [
        "**α) Ποιο είναι το πρόβλημα και ποιες είναι οι κύριες ιδέες που διαπραγματεύεται το άρθρο αυτό;**\n",
        "\n",
        "\n",
        "Το συγκεκριμένο άρθρο επιχειρεί να δώσει μία πιο αποδοτική λύση στο πρόβλημα της κωδικοποίησης εικόνων. Για να επιτευχθεί αυτό, οι συγγραφείς Peter Burt και Edward Adelson προτείνουν έναν νέο αλγόριθμο, που συνδυάζει τεχνικές από μεθόδους πρόβλεψης και μετασχηματισμού. Ειδικότερα, δίνεται έμφαση στην αφαίρεση της πλεονάζουσας πληροφορίας, που φέρει κάθε εικόνα, λόγω της συσχέτισης μεταξύ των γειτονικών pixels. Για αυτόν τον λόγο, δεν κωδικοποιείται η αρχική εικόνα, αλλά η διαφορά της από την προβλεπόμενη εικόνα, η οποία προκύπτει από βαθυπερατό φιλτράρισμα με ένα kernel, που μοιάζει με γκασουσιανή. Η διαφορά, αυτή, συνιστά το σφάλμα πρόβλεψης και αποτελεί μία αποσυσχετισμένη εικόνα, που μας οδηγεί σε σημαντική και αποτεέσματική συμπίεση της συνολικής πληροφορίας χωρίς αισθητές απώλειες.\n",
        "\n",
        "\n",
        "**β) Ποιος είναι ο σκοπός του φίλτρου Gauss στην κατασκευή της πυραμίδας; Τι θα συνέβαινε αν χρησιμοποιήθηκε μόνο υποδειγματοληψία;**\n",
        "\n",
        "\n",
        "Το γκαουσιανό φίλτρο αφαιρεί τις λεπτομέρειες της εικόνας και την θολώνει, γι αυτό και δημιουργεί μία πρόβέψή της. Αν πραγματοποιούσαμε υποδειγματοληψία  χωρίς να προηγηθεί αυτό το φιλτράρισμα, το υψίσυχνο περιεχόμενο της εικόνας θα μπορούσε να μας οδηγήσει σε μεγάλες απώλειες πληροφορίας (aliasing).\n",
        "\n",
        "\n",
        "**γ) Πώς χρησιμοποιείται η πυραμίδα Laplacian για την επίλυση του προβλήματος που αναφέρεταιστο άρθρο; Γιατί αυτή η αναπαράσταση εικόνας είναι καλύτερη από την πυραμίδα Gauss στο πλαίσιο της εργασίας που διαπραγματεύεται το άρθρο;**\n",
        "\n",
        "\n",
        "Η πυραμίδα Laplacian χρησιμοποιείται, για να κωδικοποιηθεί αποδοτικότερα η εικόνα. Όπως έχει προαναφερθεί, επιτυγχάνεται μεγαλύτερη συμπίεση στην κωδικοποίηση της εικόνας, γεγονός που συμβαίνει για δύο λόγους: \n",
        "Αρχικά, στο σφάλμα πρόβλεψης που κωδικοποιείται δεν παρουσιάζεται συσχέτιση μεταξύ γειτονικών pixels και, επομένως, χρειάζονται αρκετά λιγότερα bits από ότι αν κωδικοποιούσαμε την αρχική εικόνα. Επιπλέον, μας δίνεται η δυνατότητα  υποδειγματοληψίας της προβλεπόμενης εικόνας, λόγω του βαθυπερατού φιλτραρίσματος που έχει προηγηθεί. Τέλος, αξίζει να σημειωθεί, πως περαιτέρω συμπίεση μπορεί να πραγματοποιηθεί και με τη κβάντιση των τιμών των pixels.\n",
        "\n",
        "\n",
        "**δ) Περιγράψτε πώς να ανακτήσετε την εικόνα χρησιμοποιώντας μόνο την πυραμίδα Laplacian.Διατυπώστε την απάντησή σας χρησιμοποιώντας μια εξίσωση που περιγράφει αυτήν τη διαδικασία. Θα μπορέσουμε να ανακτήσουμε τέλεια την αρχική εικόνα;**\n",
        "\n",
        "Προκειμένου να ανακτήσουμε την εικόνα, θα ακολουθήσουμε μία επαναληπτική διαδικασία ξεκινώντας από την \"κορυφή\" της πυραμίδας. Αρχικά, εφαρμόζουμε υπερδειγματοληψία της εικόνας, στη συνέχεια, βαθυπερατό φιλτράρισμα με το γκαουσιανό kernel και, τέλος, την προσθέτουμε στο επόμενο επίπεδο της πυραμίδας. Θα ακολουθήσουμε αυτά τα βήματα μέχρι να φτάσουμε στις αρχικές διαστάσεις της εικόνας (\"βάση\" της πυραμίδας) και θα έχουμε πλήρη ανακατασκευή της αρχικής εικόνας που κωδικοποιήσαμε. Ο παραπάνω αλγόριθμος ανακατασκευής περιγράφεται από τον παρακάτω τύπο, που περιλαμβάνεται στο άρθρο:\n",
        "\n",
        "g(l) = L(l) + EXPAND(g(l+1)\n",
        "\n",
        "Η τελική εικόνα είναι το g(0)."
      ],
      "metadata": {
        "id": "CoTdZbreIuN3"
      }
    },
    {
      "cell_type": "markdown",
      "source": [
        "## 2. Εργαστηριακό Μέρος"
      ],
      "metadata": {
        "id": "xEAMUttsIeLS"
      }
    },
    {
      "cell_type": "markdown",
      "source": [
        "**Δήλωση Βιβλιοθήκων**"
      ],
      "metadata": {
        "id": "o4bPlogFyyvx"
      }
    },
    {
      "cell_type": "code",
      "source": [
        "import numpy as np\n",
        "import cv2\n",
        "from skimage import data\n",
        "import matplotlib.pyplot as plt\n",
        "import urllib.request\n",
        "import scipy.stats as st"
      ],
      "metadata": {
        "id": "WUsfWL68Lgdl"
      },
      "execution_count": 82,
      "outputs": []
    },
    {
      "cell_type": "markdown",
      "source": [
        "**α) Υλοποιήστε τη συνάρτηση h = GKernel(a), η οποία θα δημιουργεί ένα Generating Kernel,εξαρτώμενο από την παράμετρο ‘a’, όπως αυτή ορίζεται στη σελίδα 533 του άρθρου The LaplacianPyramid as a Compact Image Code των Burt και Adelson**"
      ],
      "metadata": {
        "id": "JAS2qVSHzB7I"
      }
    },
    {
      "cell_type": "code",
      "execution_count": 83,
      "metadata": {
        "id": "MoVkV4dOF5rY"
      },
      "outputs": [],
      "source": [
        "def GKernel(a):\n",
        "  w_1d = np.array([[0.25 - a/2], [0.25], [a], [0.25], [0.25 - a/2]])\n",
        "  return w_1d @ w_1d.T"
      ]
    },
    {
      "cell_type": "markdown",
      "source": [
        "**β) Υλοποιήστε τη συνάρτηση I_out = GREDUCE(I, h), η οποία θα εφαρμόζει την εξίσωση (1)(σελίδα άρθρου 533).**"
      ],
      "metadata": {
        "id": "BldR4EzszEtP"
      }
    },
    {
      "cell_type": "code",
      "source": [
        "def GREDUCE(I, h):\n",
        "  I_out = cv2.filter2D(I, -1, h)\n",
        "  I_out = cv2.resize(I_out, (I_out.shape[0]//2, I_out.shape[1]//2), interpolation = cv2.INTER_CUBIC)\n",
        "  return I_out"
      ],
      "metadata": {
        "id": "ClZep2zRNeFk"
      },
      "execution_count": 84,
      "outputs": []
    },
    {
      "cell_type": "markdown",
      "source": [
        "**γ) Υλοποιήστε τη συνάρτηση G = GPyramid(I, a, depth) (η οποία θα καλεί τις συναρτήσεις GKernel(a) και GREDUCE(I,h)) όπου θα δέχεται ως είσοδο μία εικόνα Ι, την παράμετρο ‘a’, το επιθυμητό βάθος για την πυραμίδα ’depth’ και θα επιστρέφει την Gaussian pyramid και θα την αποθηκεύει.**"
      ],
      "metadata": {
        "id": "ZMNNTjoYzLfL"
      }
    },
    {
      "cell_type": "code",
      "source": [
        "def GPyramid(I, a, depth):\n",
        "  h = GKernel(a)\n",
        "  pyramid = []\n",
        "  for i in range(depth):\n",
        "    pyramid.append(I)\n",
        "    I = GREDUCE(I, h)\n",
        "  return pyramid"
      ],
      "metadata": {
        "id": "OHSJzOtGgF8O"
      },
      "execution_count": 85,
      "outputs": []
    },
    {
      "cell_type": "markdown",
      "source": [
        "**δ) Υλοποιήστε τη συνάρτηση I_out = GEXPAND (I, h) την εξίσωση (2) (σελίδα άρθρου 534).**"
      ],
      "metadata": {
        "id": "hmsScuQZzOSA"
      }
    },
    {
      "cell_type": "code",
      "source": [
        "def GEXPAND(I, h):\n",
        "  I = cv2.resize(I, (2*I.shape[0], 2*I.shape[1]), interpolation = cv2.INTER_CUBIC)\n",
        "  exp_img = cv2.filter2D(I, -1, h)\n",
        "  return exp_img\n"
      ],
      "metadata": {
        "id": "-9VmcxpbfhN0"
      },
      "execution_count": 5,
      "outputs": []
    },
    {
      "cell_type": "markdown",
      "source": [
        "**ε) Χρησιμοποιώντας τη συνάρτηση του (γ) ερωτήματος, υλοποιήστε τη συνάρτηση L = LPyramid(I,a, depth) όπου θα επιστρέφει την Laplacian πυραμίδα της εικόνας I**"
      ],
      "metadata": {
        "id": "DjhppeQkzSZ6"
      }
    },
    {
      "cell_type": "code",
      "source": [
        "def LPyramid(I, a, depth):\n",
        "  h = GKernel(a)\n",
        "  pyramid = GPyramid(I, a, depth)\n",
        "  L = []\n",
        "  for i in range(depth):\n",
        "    if i < depth - 1:\n",
        "      L.append(pyramid[i] - GEXPAND(pyramid[i+1], h) + 128)\n",
        "    else:\n",
        "      L.append(pyramid[i])\n",
        "  return L"
      ],
      "metadata": {
        "id": "XCOeTviBu2ni"
      },
      "execution_count": 6,
      "outputs": []
    },
    {
      "cell_type": "markdown",
      "source": [
        "**στ) Υλοποιήστε τη συνάρτηση I_out = L_Pyramid_Decode(L,a) όπου λαμβάνει την Laplacian πυραμίδα L και την παράμετρο 'a' που χρησιμοποιήθηκε για τη δημιουργία της και επιστρέφει την αποκωδικοποιημένη εικόνα I_out.**"
      ],
      "metadata": {
        "id": "DuIrI_93zV3B"
      }
    },
    {
      "cell_type": "code",
      "source": [
        "def L_Pyramid_Decode(L, a):\n",
        "  h = GKernel(a)\n",
        "  reconstructed_img = L[-1]\n",
        "  for i in range(len(L)-1):\n",
        "    reconstructed_img  = GEXPAND(reconstructed_img.astype('uint8'), h) + L[-i-2] - 128\n",
        "  return reconstructed_img"
      ],
      "metadata": {
        "id": "TOb8Ue0wQZsj"
      },
      "execution_count": 7,
      "outputs": []
    },
    {
      "cell_type": "markdown",
      "source": [
        "**ζ) Υλοποιήστε τη συνάρτηση κβαντισμού L_Quantization, σύμφωνα με την εξίσωση (5) (σελ.άρθρου 538).**"
      ],
      "metadata": {
        "id": "O5o2jnJuzaOu"
      }
    },
    {
      "cell_type": "code",
      "source": [
        "def L_Quantization(I, bins):\n",
        "  q = np.linspace(0, 255, bins)\n",
        "  q = q + q[1]/2\n",
        "  q[-1] = 255\n",
        "  q_img = np.digitize(I, q)\n",
        "  return q_img"
      ],
      "metadata": {
        "id": "Cp5-HrmTn4pw"
      },
      "execution_count": 8,
      "outputs": []
    },
    {
      "cell_type": "markdown",
      "source": [
        "**Β. Δοκιμές αλγορίθμου**"
      ],
      "metadata": {
        "id": "-RZD9o4dIm5W"
      }
    },
    {
      "cell_type": "markdown",
      "source": [
        "Αρχικά, θα οπτικοποιώντας τις εικόνες, που θα επεξεργαστούμε στη συνέχεια, έχουμε τα παρακάτω αποτελέσματα:"
      ],
      "metadata": {
        "id": "qubulxOk4Oa6"
      }
    },
    {
      "cell_type": "code",
      "source": [
        "from skimage import data\n",
        "camera = data.camera()\n",
        "\n",
        "HTTP_response = urllib.request.urlopen('http://www.image.ntua.gr/~tpar/LABimage/lena.png')\n",
        "arr = np.asarray(bytearray(HTTP_response.read()), dtype=np.uint8)\n",
        "BGR = cv2.imdecode(arr,-1)\n",
        "lena = cv2.cvtColor(BGR, cv2.COLOR_BGR2RGB)\n",
        "lena_r=lena[:,:,0]\n",
        "lena_g=lena[:,:,1]\n",
        "lena_b=lena[:,:,2]\n",
        "\n",
        "f, (ax0,ax1,ax2,ax3,ax4) = plt.subplots(1, 5, figsize=(20, 20))\n",
        "ax0.imshow(camera, cmap=\"gray\") \n",
        "ax0.set_title('camera', fontsize=14)\n",
        "ax1.imshow(lena)\n",
        "ax1.set_title('RGB lena', fontsize=14)\n",
        "ax2.imshow(lena_r)\n",
        "ax2.set_title('R lena', fontsize=14)\n",
        "ax3.imshow(lena_g)\n",
        "ax3.set_title('G lena', fontsize=14)\n",
        "ax4.imshow(lena_b)\n",
        "ax4.set_title('B lena', fontsize=14)"
      ],
      "metadata": {
        "id": "OerA32Q00Z4M"
      },
      "execution_count": null,
      "outputs": []
    },
    {
      "cell_type": "code",
      "source": [
        "def printMultiple (images, titles, channel):\n",
        "    if channel != 'gray':\n",
        "        channel = 'viridis'\n",
        "    num = len(images)\n",
        "    ax = np.zeros(num)\n",
        "    f, ax = plt.subplots(1, num, figsize=(20, 20))\n",
        "    for i in range(num):\n",
        "        ax[i].imshow(images[i], cmap=channel) \n",
        "        ax[i].set_title(titles[i], fontsize=12)\n",
        "    return"
      ],
      "metadata": {
        "id": "4tqi2mf_0jUj"
      },
      "execution_count": 90,
      "outputs": []
    },
    {
      "cell_type": "markdown",
      "source": [
        "**α) Ελέγξτε τις υλοποιήσεις των συναρτήσεών σας L_Pyramid και L_Pyramid_Decode\n",
        "χρησιμοποιώντας τις εικόνες Lena και camera. Πρέπει να λειτουργούν και για έγχρωμες και για\n",
        "grayscale εικόνες.**"
      ],
      "metadata": {
        "id": "w-o3jWmqP1nB"
      }
    },
    {
      "cell_type": "markdown",
      "source": [
        "Με την συγκεκριμένη συνάρτηση ελέγχουμε την ορθότητα του αλγορίθμου μας. Αναμένουμε να έχουμε σε κάθε εικόνα πλήρη ανακατασκευή της αρχικής. Στον συγκεκριμένο έλεγχο θα χρησιμοποιήσουμε μόνο a=0.5 και depth=5, καθώς στα επομένα ερωτήματα θα επαναλάβουμε τη διαδικασία για όλες τις τιμές των a, depth."
      ],
      "metadata": {
        "id": "pzHVDpdV4nlI"
      }
    },
    {
      "cell_type": "code",
      "source": [
        "def Functionality_Check(img, channel, a, depth):\n",
        "  plt.figure()\n",
        "  if channel != 'gray':\n",
        "      plt.title('Original Image: Channel '+channel)\n",
        "      plt.imshow(img)\n",
        "  else:\n",
        "      plt.title('Original Grayscale Image')\n",
        "      plt.imshow(img, cmap='gray')\n",
        "\n",
        "  L = LPyramid(img, a, depth)\n",
        "  titles = ['L' + channel + '[' + str(i) +']' for i in range(depth)]\n",
        "  printMultiple(L,titles,channel)\n",
        "\n",
        "  plt.figure()\n",
        "  decoded=L_Pyramid_Decode(L, a)\n",
        "  if channel != 'gray':\n",
        "      plt.title(\"Decoded Image: Channel \"+channel)\n",
        "      plt.imshow(decoded)\n",
        "  else:\n",
        "      plt.title(\"Grayscale Decoded Image\")\n",
        "      plt.imshow(decoded, cmap='gray')\n",
        "  print((img == decoded).all())\n",
        "\n",
        "  return decoded"
      ],
      "metadata": {
        "id": "2rNY3zh12Ts3"
      },
      "execution_count": 95,
      "outputs": []
    },
    {
      "cell_type": "code",
      "source": [
        "DeclenaR = Functionality_Check(lena_r, \"R\", 0.5, 5)"
      ],
      "metadata": {
        "id": "343rnekp2gBS"
      },
      "execution_count": null,
      "outputs": []
    },
    {
      "cell_type": "code",
      "source": [
        "DeclenaG = Functionality_Check(lena_g, \"G\", 0.5, 5)"
      ],
      "metadata": {
        "id": "Q7xPfAzE2lhk"
      },
      "execution_count": null,
      "outputs": []
    },
    {
      "cell_type": "code",
      "source": [
        "DeclenaB = Functionality_Check(lena_b, \"B\", 0.5, 5)"
      ],
      "metadata": {
        "id": "-D_BHwcH2tY0"
      },
      "execution_count": null,
      "outputs": []
    },
    {
      "cell_type": "code",
      "source": [
        "Declena = np.dstack((DeclenaR, DeclenaG, DeclenaB))\n",
        "print((lena == Declena).all())\n",
        "plt.figure()\n",
        "plt.title(\"Decoded Lena\")\n",
        "plt.imshow(Declena)"
      ],
      "metadata": {
        "id": "6FOEFfLxi2OG"
      },
      "execution_count": null,
      "outputs": []
    },
    {
      "cell_type": "code",
      "source": [
        "camera_decoded = Functionality_Check(camera, \"gray\", 0.5, 5)"
      ],
      "metadata": {
        "id": "BhOmGyhp3HF-"
      },
      "execution_count": null,
      "outputs": []
    },
    {
      "cell_type": "markdown",
      "source": [
        "**β) Εμφανίστε την αρχική και την αποκωδικοποιημένη εικόνα, χρησιμοποιώντας διαφορετικά ‘a’ με\n",
        "τιμές να κυμαίνονται στο διάστημα [0.2,..,0.7].**"
      ],
      "metadata": {
        "id": "BNXvFaug4YKq"
      }
    },
    {
      "cell_type": "markdown",
      "source": [
        "Χρησιμοποιώντας depth=5 θα οπτικοποιήσουμε όλα τα επίπεδα όλων των διαφορετικών πυραμίδων των δύο εικόνων για a=0.2, 0.3, 0.4, 0.5, 0.6, 0.7."
      ],
      "metadata": {
        "id": "hMwnbv_M6pk2"
      }
    },
    {
      "cell_type": "code",
      "source": [
        "def Pyramid_Visualization_for_dif_a(img, depth):\n",
        "  ar = np.linspace(0.2, 0.7, 6)\n",
        "  if len(img.shape) == 2:\n",
        "    for i, a in enumerate(ar):\n",
        "      L = LPyramid(img, a, depth)\n",
        "      decoded_img  = L_Pyramid_Decode(L, a)\n",
        "      titles = ['L[' + str(n) +'] with a='+ str(a) for n in range(depth)]\n",
        "      printMultiple (L, titles, 'gray')\n",
        "      plt.figure()\n",
        "      plt.title(\"Grayscale Decoded Image with a=\" +str(a))\n",
        "      plt.imshow(decoded_img , cmap='gray')\n",
        "      print((img == decoded_img).all())\n",
        "  else:\n",
        "    channels = ['r', 'g', 'b']\n",
        "    c = [[], [], []]\n",
        "    for j in range(3):\n",
        "      for i, a in enumerate(ar):\n",
        "        L = LPyramid(img[:, :, j], a, depth)\n",
        "        decoded_img  = L_Pyramid_Decode(L, a)\n",
        "        titles = ['L[' + str(n) +'] of channel ' + channels[j] + ' with a='+ str(a) for n in range(depth)]\n",
        "        printMultiple (L, titles, channels[j])\n",
        "        plt.figure()\n",
        "        plt.title(\"Decoded Image: Channel \"+channels[j]+\" with a=\" +str(a))\n",
        "        plt.imshow(decoded_img )\n",
        "        c[j].append(decoded_img)\n",
        "      \n",
        "      print((img[:, :, j] == decoded_img).all())\n",
        "\n",
        "    for i, a in enumerate(ar):\n",
        "      decoded_img = np.dstack((c[0][i], c[1][i], c[2][i]))\n",
        "      title = \"Fully Reconstrcuted Image with a = \"+ str(a)\n",
        "      plt.figure()\n",
        "      plt.title(title)\n",
        "      plt.imshow(decoded_img)"
      ],
      "metadata": {
        "id": "srdwV6adURIp"
      },
      "execution_count": 77,
      "outputs": []
    },
    {
      "cell_type": "code",
      "source": [
        "camera_decoded = Pyramid_Visualization_for_dif_a(camera, 5)"
      ],
      "metadata": {
        "id": "PP1PtvoueGex"
      },
      "execution_count": null,
      "outputs": []
    },
    {
      "cell_type": "code",
      "source": [
        "lena_decoded = Pyramid_Visualization_for_dif_a(lena, 5)"
      ],
      "metadata": {
        "id": "snK65et7nJTD"
      },
      "execution_count": null,
      "outputs": []
    },
    {
      "cell_type": "markdown",
      "source": [
        "**γ) Εμφανίστε την αρχική και την αποκωδικοποιημένη εικόνας, χρησιμοποιώντας διαφορετικά\n",
        "‘depth’ με τιμές να κυμαίνονται στο διάστημα [2,..,7].**"
      ],
      "metadata": {
        "id": "buIYuIx84T1m"
      }
    },
    {
      "cell_type": "markdown",
      "source": [
        "Χρησιμοποιώντας a=0.5 θα οπτικοποιήσουμε όλα τα επίπεδα όλων των διαφορετικών πυραμίδων των δύο εικόνων για depth=2, 3, 4, 5, 6, 7."
      ],
      "metadata": {
        "id": "nRGoGSNH7C0U"
      }
    },
    {
      "cell_type": "code",
      "source": [
        "def Pyramid_Visualization_for_dif_depth(img, a):\n",
        "  depths = np.linspace(2, 7, 6)\n",
        "  if len(img.shape) == 2:\n",
        "    for i, depth in enumerate(depths):\n",
        "      depth = int(depth)\n",
        "      L = LPyramid(img, a, depth)\n",
        "      decoded_img = L_Pyramid_Decode(L, a)\n",
        "      titles = ['L[' + str(n) +'] with depth='+ str(depth) for n in range(depth)]\n",
        "      printMultiple (L, titles, 'gray')\n",
        "      plt.figure()\n",
        "      plt.title(\"Grayscale Decoded Image with depth=\" +str(depth))\n",
        "      plt.imshow(decoded_img , cmap='gray')\n",
        "      print((img == decoded_img).all())\n",
        "  else:\n",
        "    channels = ['r', 'g', 'b']\n",
        "    c = [[], [], []]\n",
        "    for j in range(3):\n",
        "      for i, depth in enumerate(depths):\n",
        "        depth = int(depth)\n",
        "        L = LPyramid(img[:, :, j], a, depth)\n",
        "        decoded_img  = L_Pyramid_Decode(L, a)\n",
        "        titles = ['L[' + str(n) +'] of channel ' + channels[j] + ' with depth='+ str(depth) for n in range(depth)]\n",
        "        printMultiple (L, titles, channels[j])\n",
        "        plt.figure()\n",
        "        plt.title(\"Decoded Image: Channel \"+channels[j]+\" with depth=\" +str(depth))\n",
        "        plt.imshow(decoded_img )\n",
        "        c[j].append(decoded_img)\n",
        "      \n",
        "      print((img[:, :, j] == decoded_img).all())\n",
        "\n",
        "    for i, depth in enumerate(depths):\n",
        "      depth = int(depth)\n",
        "      decoded_img = np.dstack((c[0][i], c[1][i], c[2][i]))\n",
        "      title = \"Fully Reconstrcuted Image with depth = \"+ str(depth)\n",
        "      plt.figure()\n",
        "      plt.title(title)\n",
        "      plt.imshow(decoded_img)"
      ],
      "metadata": {
        "id": "u3gGVMCpeRtH"
      },
      "execution_count": 88,
      "outputs": []
    },
    {
      "cell_type": "code",
      "source": [
        "camera_decoded = Pyramid_Visualization_for_dif_depth(camera, 0.5)"
      ],
      "metadata": {
        "id": "QZXCSVhXbCV3"
      },
      "execution_count": null,
      "outputs": []
    },
    {
      "cell_type": "code",
      "source": [
        "lena_decoded = Pyramid_Visualization_for_dif_depth(lena, 0.5)"
      ],
      "metadata": {
        "id": "4Q5e9wX2B9MZ"
      },
      "execution_count": null,
      "outputs": []
    },
    {
      "cell_type": "markdown",
      "source": [
        "**δ) Υπολογίστε τη εντροπία και παρουσιάστε τα αντίστοιχα διαγράμματα για τα διαφορετικά ‘a’, και\n",
        "‘depth’ , για κάθε εικόνα και σχολιάστε επαρκώς.**"
      ],
      "metadata": {
        "id": "gaLvucgR4MwU"
      }
    },
    {
      "cell_type": "code",
      "source": [
        "def pyramid_entropy(img, a, depth):\n",
        "  L = LPyramid(img, a, depth)\n",
        "  sum_hist = np.zeros([256,1], np.float64)\n",
        "  for n in range(depth-1):\n",
        "      hist = cv2.calcHist([L[n]], [0], None, [256], [0, 256])\n",
        "      sum_hist += hist\n",
        "  entropy = st.entropy(sum_hist)[0]\n",
        "  return entropy, sum_hist/sum_hist.max()"
      ],
      "metadata": {
        "id": "7wzN8jwEjNUk"
      },
      "execution_count": 29,
      "outputs": []
    },
    {
      "cell_type": "code",
      "source": [
        "def Entropies_Histograms_for_dif_a(img, depth):\n",
        "  if len(img.shape) == 3:\n",
        "    channels = 3\n",
        "    colors = ['--r', '--g', '--b']\n",
        "    entropies = [[], [], []]\n",
        "  else: \n",
        "    channels = 1\n",
        "    colors = ['--k']\n",
        "    entropies = [[]]\n",
        "\n",
        "  ar = np.linspace(0.2, 0.7, 11)\n",
        "  f, ax = plt.subplots(1, 6, figsize = (30, 5))\n",
        "  plt.figure()\n",
        "  plt.title(\"Entropies for a in [0.2, 0.7]\")\n",
        "  for c in range(channels):\n",
        "\n",
        "    if channels == 3:\n",
        "      img1 = img[:, :, c]\n",
        "    else:\n",
        "      img1 = img\n",
        "\n",
        "    for i, a in enumerate(ar):\n",
        "      entropy, sum_hist = pyramid_entropy(img1, a, depth)\n",
        "      entropies[c].append(entropy)\n",
        "      title = 'histogram for a = ' + str(a)\n",
        "\n",
        "      if i%2 == 0:\n",
        "        if c == 0:\n",
        "          ax[i//2].set_title(title)\n",
        "        ax[i//2].plot(sum_hist, colors[c][2], label = colors[c][2])\n",
        "        ax[i//2].legend()\n",
        "\n",
        "    plt.plot(ar, entropies[c], colors[c])"
      ],
      "metadata": {
        "id": "JrNmxzqneaIl"
      },
      "execution_count": 30,
      "outputs": []
    },
    {
      "cell_type": "code",
      "source": [
        "def Entropies_Histograms_for_dif_depth(img, a):\n",
        "  if len(img.shape) == 3:\n",
        "    channels = 3\n",
        "    colors = ['or', 'og', 'ob']\n",
        "    entropies = [[], [], []]\n",
        "  else: \n",
        "    channels = 1\n",
        "    colors = ['ok']\n",
        "    entropies = [[]]\n",
        "\n",
        "  depths = np.linspace(2, 7, 6)\n",
        "  f, ax = plt.subplots(1, 6, figsize = (30, 5))\n",
        "  plt.figure()\n",
        "  plt.title(\"Entropies for depth in [2, 7]\")\n",
        "  for c in range(channels):\n",
        "\n",
        "    if channels == 3:\n",
        "      img1 = img[:, :, c]\n",
        "    else:\n",
        "      img1 = img\n",
        "\n",
        "    for i, depth in enumerate(depths):\n",
        "      depth = int(depth)\n",
        "      entropy, sum_hist = pyramid_entropy(img1, a, depth)\n",
        "      entropies[c].append(entropy)\n",
        "      title = 'histogram for depth = ' + str(depth)\n",
        "      ax[i].set_title(title)\n",
        "      ax[i].plot(sum_hist, colors[c][1], label = colors[c][1])\n",
        "      ax[i].legend()\n",
        "\n",
        "    plt.plot(depths, entropies[c], colors[c])"
      ],
      "metadata": {
        "id": "wJQoa6bQz1bn"
      },
      "execution_count": 31,
      "outputs": []
    },
    {
      "cell_type": "code",
      "source": [
        "Entropies_Histograms_for_dif_a(camera, depth = 5)\n",
        "Entropies_Histograms_for_dif_depth(camera, a = 0.5)"
      ],
      "metadata": {
        "id": "pKo1-8Sl0Qtb"
      },
      "execution_count": null,
      "outputs": []
    },
    {
      "cell_type": "code",
      "source": [
        "Entropies_Histograms_for_dif_a(lena, depth = 5)\n",
        "Entropies_Histograms_for_dif_depth(lena, a = 0.5)"
      ],
      "metadata": {
        "id": "aaQGms3EBxOs"
      },
      "execution_count": null,
      "outputs": []
    },
    {
      "cell_type": "markdown",
      "source": [
        "**Σχολιασμός**:\n",
        "\n",
        "1. Παρατηρούμε ότι στις περιπτώσεις και των δύο παραπάνω εικόνων, η εντροπία των πυραμίδων παρουσιάζει ελάχιστη τιμή για τιμή 'a' περίπου στο μέσο του διαστήματος (0.6, 0.7) και πιο κοντά στο 0.6. Το αποτέλεσμα αυτό ήταν αναμενόμενο και με βάση το δοθέν άρθρο των  Burt και Adelson, όπου η τιμή a = 0.6 κρίνεται ως η καταλληλότερη για την αποσυσχέτιση της εξεταζόμενης εικόνας, κι επομένως, και για την μείωση της εντροπίας της. \n",
        "\n",
        "2. Από τα διαγράμματα εντροπίας - επιπέδων (depth) γίνεται αντιληπτό ότι η εντροπία αυξάνεται με την αύξηση του συνολικού αριθμού επιπέδων μιας πυραμίδας (εκτός από πολύ μικρά επίπεδα πχ depth=2). Παρόλα αυτά, στη δική μας περίπτωση οι αυξήσεις, αυτές, είναι αμελητέες (της τάξης του 0.01), γι αυτό και επιλέγουμε σταθέρα depth=5."
      ],
      "metadata": {
        "id": "COQuFIP3KZa4"
      }
    },
    {
      "cell_type": "markdown",
      "source": [
        "**ε) Εντοπίστε το βέλτιστο ‘a’, χρησιμοποιώντας την εντροπία και τη διακύμανση των τιμών των\n",
        "εικονοστοιχείων σε κάθε επίπεδο της πυραμίδας Laplacian, για κάθε εικόνα.**"
      ],
      "metadata": {
        "id": "M5EtSxAFQXi8"
      }
    },
    {
      "cell_type": "code",
      "source": [
        "def Entropy_and_Var_for_every_depth_a(img):  \n",
        "  ar  = np.linspace(0.2, 0.7, 6)\n",
        "  depths = np.linspace(2, 7, 6)\n",
        "  if len(img.shape) == 2:\n",
        "    for a in ar:\n",
        "      print(\"For a =\", a, \":\")\n",
        "      for depth in depths:\n",
        "        depth = int(depth)\n",
        "        entropy , sum_hist = pyramid_entropy(img, a, depth)\n",
        "        var = np.var(sum_hist)\n",
        "        print(\"For depth =\", depth, \": Entropy =\", entropy, \", Variance =\", var)\n",
        "      print()\n",
        "    \n",
        "  elif len(img.shape) == 3:\n",
        "    for a in ar:\n",
        "      print(\"For a =\", a, \":\")\n",
        "      for depth in depths:\n",
        "        depth = int(depth)\n",
        "        entropy = 0\n",
        "        var = 0\n",
        "        for i in range(3):\n",
        "          channel_entropy , sum_hist = pyramid_entropy(img, a, depth)\n",
        "          entropy += channel_entropy\n",
        "          var += np.var(sum_hist)\n",
        "        print(\"For depth =\", depth, \": Entropy =\", entropy/3, \", Variance =\", var/3)\n",
        "      print()"
      ],
      "metadata": {
        "id": "5tt0GKbmCaGj"
      },
      "execution_count": 36,
      "outputs": []
    },
    {
      "cell_type": "code",
      "source": [
        "Entropy_and_Var_for_every_depth_a(camera)"
      ],
      "metadata": {
        "id": "T5mSbcybGt10"
      },
      "execution_count": null,
      "outputs": []
    },
    {
      "cell_type": "code",
      "source": [
        "Entropy_and_Var_for_every_depth_a(lena)"
      ],
      "metadata": {
        "id": "wKDjox73HfR8"
      },
      "execution_count": null,
      "outputs": []
    },
    {
      "cell_type": "markdown",
      "source": [
        "**Σχολιασμός:**\n",
        "\n",
        "Παρατηρούμε ότι η εντροπία και η διακύμανση για τα περισσότερα επίπεδα παρουσιάζουν ελάχιστα για τιμή 'a' που προσεγγίζει το 0.6, το οποίο θα επιλεχθεί ως βέλτιστο και θα χρησιμοποιηθεί κατά τις υπόλοιπες δοκιμές. "
      ],
      "metadata": {
        "id": "OZwc-jJSLgxJ"
      }
    },
    {
      "cell_type": "markdown",
      "source": [
        "**στ) Για το βέλτιστο ‘a’ που υπολογίσατε στο προηγούμενο ερώτημα, κβαντίστε τις εικόνες Lena και\n",
        "camera χρησιμοποιώντας διαφορετικά bin size (πραγματοποιήστε 3 διαφορετικά πειράματα για\n",
        "κάθε εικόνα).**"
      ],
      "metadata": {
        "id": "2ZeesDEFPQOl"
      }
    },
    {
      "cell_type": "markdown",
      "source": [
        "Υποθέτουμε βέλτιστο a ίσο με 0.6. Θα πραγματοποιήσουμε 3 πειράματα ανά εικόνα με διαφορετικό αριθμό bins ανά επίπεδο. Ως depth της Laplacian πυραμίδας θα χρησιμοποιήσουμε default τιμή ίση με 5."
      ],
      "metadata": {
        "id": "gGEKoXdDMCK_"
      }
    },
    {
      "cell_type": "code",
      "source": [
        "def Quantized_Pyramid_Visualization(img, a, depth, bins):\n",
        "  if len(img.shape) == 2:\n",
        "    L = LPyramid(img, a, depth)\n",
        "    q_pyramid = []\n",
        "    f, ax = plt.subplots(1, depth, figsize = (20, 20))\n",
        "    for i in range(len(L)):\n",
        "      q_pyramid.append(L_Quantization(L[i], bins[i]))\n",
        "      title = 'L['+ str(i) +'], bins = ' + str(bins[i])\n",
        "      ax[i].imshow(q_pyramid[i], 'gray')\n",
        "      ax[i].set_title(title, fontsize = 14)\n",
        "    distorted_img = L_Pyramid_Decode(q_pyramid, a)\n",
        "    plt.figure()\n",
        "    plt.title(\"Reconstructed Image (Distorted)\")\n",
        "    plt.imshow(distorted_img, 'gray')\n",
        "  elif len(img.shape) == 3:\n",
        "    final_distorted_img = []\n",
        "    for j in range(3):\n",
        "      colors = ['r', 'g', 'b']\n",
        "      L = LPyramid(img[:, :, j], a, depth)\n",
        "      q_pyramid = []\n",
        "      f, ax = plt.subplots(1, depth, figsize = (20, 20))\n",
        "      for i in range(len(L)):\n",
        "        q_pyramid.append(L_Quantization(L[i], bins[i]))\n",
        "        title = 'L['+ str(i) +'], bins = ' + str(bins[i]) + ', channel = ' + colors[j]\n",
        "        ax[i].imshow(q_pyramid[i])\n",
        "        ax[i].set_title(title, fontsize = 14)\n",
        "      distorted_img = L_Pyramid_Decode(q_pyramid, a)\n",
        "      final_distorted_img.append(distorted_img)\n",
        "      plt.figure()\n",
        "      plt.title(\"Reconstructed Image (Distorted)\")\n",
        "      plt.imshow(distorted_img)\n",
        "    final_distorted_img = np.dstack((final_distorted_img[0], final_distorted_img[1], final_distorted_img[2]))\n",
        "    plt.figure()\n",
        "    plt.title(\"Final Reconstructed Image (Distorted)\")\n",
        "    plt.imshow(final_distorted_img)"
      ],
      "metadata": {
        "id": "T2zzVP-yJ-kd"
      },
      "execution_count": 39,
      "outputs": []
    },
    {
      "cell_type": "code",
      "source": [
        "best_a = 0.6\n",
        "bins1 = [10, 15, 20, 25, 30]\n",
        "bins2 = [15, 25, 30, 40, 50]\n",
        "bins3 = [20, 30, 40, 50, 60]"
      ],
      "metadata": {
        "id": "lfadbEmhPbGC"
      },
      "execution_count": 40,
      "outputs": []
    },
    {
      "cell_type": "code",
      "source": [
        "Quantized_Pyramid_Visualization(camera, best_a, 5, bins1)"
      ],
      "metadata": {
        "id": "uWUFh-GSN5ZV"
      },
      "execution_count": null,
      "outputs": []
    },
    {
      "cell_type": "code",
      "source": [
        "Quantized_Pyramid_Visualization(camera, best_a, 5, bins2)"
      ],
      "metadata": {
        "id": "8eX-DjwzN_Xq"
      },
      "execution_count": null,
      "outputs": []
    },
    {
      "cell_type": "code",
      "source": [
        "Quantized_Pyramid_Visualization(camera, best_a, 5, bins3)"
      ],
      "metadata": {
        "id": "soQmiVF4N_5g"
      },
      "execution_count": null,
      "outputs": []
    },
    {
      "cell_type": "code",
      "source": [
        "Quantized_Pyramid_Visualization(lena, best_a, 5, bins1)"
      ],
      "metadata": {
        "id": "w0JDFtyGOqVm"
      },
      "execution_count": null,
      "outputs": []
    },
    {
      "cell_type": "code",
      "source": [
        "Quantized_Pyramid_Visualization(lena, best_a, 5, bins2)"
      ],
      "metadata": {
        "id": "XGn0izffOsS0"
      },
      "execution_count": null,
      "outputs": []
    },
    {
      "cell_type": "code",
      "source": [
        "Quantized_Pyramid_Visualization(lena, best_a, 5, bins3)"
      ],
      "metadata": {
        "id": "Wh3OLAB3OvEb"
      },
      "execution_count": null,
      "outputs": []
    },
    {
      "cell_type": "markdown",
      "source": [
        "**Σχολιασμός:**\n",
        "\n",
        "Παρατηρούμε πως, με την κβάντιση χάνουμε ορισμένη πληροφορία της εικόνας που επεξεργαζόμαστε (ειδικά για μειωμένο αριθμό bins). Αυτό έχει ως αποτέλεσμα να μην μπορούμε να έχουμε πλήρη ανακατασκευή της εικόνας μας, χωρίς, ωστόσο, να έχουμε ευδιάκριτες, για τον άνθρωπο, οπτικές διαφορές. Παρόλα αυτά, επιτυγχάνεται σημαντική συμπίεση της, καθώς τα bits που χρειάζομαστε, για να κωδικοποιήσουμε κάθε pixel, ελαχιστοποιύνται (όπως και η εντροπία)."
      ],
      "metadata": {
        "id": "tL3pzpiFNROX"
      }
    }
  ],
  "metadata": {
    "kernelspec": {
      "display_name": "Python 3",
      "language": "python",
      "name": "python3"
    },
    "language_info": {
      "codemirror_mode": {
        "name": "ipython",
        "version": 3
      },
      "file_extension": ".py",
      "mimetype": "text/x-python",
      "name": "python",
      "nbconvert_exporter": "python",
      "pygments_lexer": "ipython3",
      "version": "3.8.5"
    },
    "colab": {
      "name": "IVP_1_Ergastiriaki_Askisi_22222.ipynb",
      "provenance": [],
      "collapsed_sections": []
    }
  },
  "nbformat": 4,
  "nbformat_minor": 0
}